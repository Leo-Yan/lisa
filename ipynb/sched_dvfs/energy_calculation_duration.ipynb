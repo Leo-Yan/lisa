{
 "cells": [
  {
   "cell_type": "markdown",
   "metadata": {},
   "source": [
    "## Target configuration"
   ]
  },
  {
   "cell_type": "code",
   "execution_count": 1,
   "metadata": {},
   "outputs": [
    {
     "name": "stderr",
     "output_type": "stream",
     "text": [
      "2018-01-15 15:01:17,270 INFO    : root         : Using LISA logging configuration:\n",
      "2018-01-15 15:01:17,273 INFO    : root         :   /home/leoy/Work/tools/lisa-ml-20171106/logging.conf\n"
     ]
    }
   ],
   "source": [
    "import logging\n",
    "from conf import LisaLogging\n",
    "LisaLogging.setup()#level=logging.WARNING)"
   ]
  },
  {
   "cell_type": "code",
   "execution_count": 2,
   "metadata": {},
   "outputs": [],
   "source": [
    "%matplotlib inline\n",
    "\n",
    "import os\n",
    "import json\n",
    "\n",
    "import devlib\n",
    "from env import TestEnv\n",
    "\n",
    "import trappy\n",
    "# Support for trace events analysis\n",
    "from trace import Trace\n",
    "\n",
    "import matplotlib.pyplot as plt\n",
    "import numpy as np\n",
    "import pandas as pd\n",
    "\n",
    "from wlgen import RTA, Periodic, Ramp"
   ]
  },
  {
   "cell_type": "code",
   "execution_count": 3,
   "metadata": {},
   "outputs": [],
   "source": [
    "res_dir = '/home/leoy/Work/tools/lisa-ml-20171106/results/wltests/nrg_calc_duration_LL/wa.6d21dcf_android-hikey-linaro-4.9-opt-nrg-cal-task-basis/wk1-homescreen-1'\n",
    "trace_file = os.path.join(res_dir, \"trace.dat\")"
   ]
  },
  {
   "cell_type": "code",
   "execution_count": 4,
   "metadata": {},
   "outputs": [],
   "source": [
    "# Setup target configuration\n",
    "my_conf = {\n",
    "\n",
    "    # Target platform and board\n",
    "    \"platform\"     : 'android',\n",
    "    \"board\"        : 'hikey960',\n",
    "    \n",
    "    # Device serial ID\n",
    "    # Not required if there is only one device connected to your computer\n",
    "    \"device\"       : \"270182BA020B1AA2\",\n",
    "    \n",
    "    \"ANDROID_HOME\" : \"/home/leoy/Work/tools/lisa-mainline/tools/android-sdk-linux\",\n",
    "    \n",
    "    # Energy Meters Configuration for BayLibre's ACME Cape\n",
    "    \"emeter\" : {\n",
    "        \"instrument\" : \"aep\",\n",
    "        \"conf\" : {\n",
    "            'resistor_values' : [0.033],\n",
    "            'device_entry'    : '/dev/ttyACM0'\n",
    "        },\n",
    "        \"channel_map\" : {\n",
    "            \"Device0\" : \"BAT\"\n",
    "        }\n",
    "    },\n",
    "\n",
    "    # Folder where all the results will be collected\n",
    "    \"results_dir\" : \"taskset_test\",\n",
    "\n",
    "    # Define devlib modules to load\n",
    "    \"modules\"     : [\n",
    "        'cpufreq',\n",
    "        'cpuidle'\n",
    "    ],\n",
    "\n",
    "    # FTrace events to collect for all the tests configuration which have\n",
    "    # the \"ftrace\" flag enabled\n",
    "    \"ftrace\"  : {\n",
    "         \"events\" : [\n",
    "            \"sched_sugov_util\",\n",
    "            \"sched_load_avg_cpu\",\n",
    "            \"sched_boost_cpu\",\n",
    "            \"cpu_frequency\",\n",
    "             \"sched_energy_calc_duration\"\n",
    "         ],\n",
    "         \"buffsize\" : 100 * 1024,\n",
    "    },\n",
    "\n",
    "    # Tools required by the experiments\n",
    "    \"tools\"   : [ 'trace-cmd', 'taskset', 'rt-app', 'sysbench'],\n",
    "}"
   ]
  },
  {
   "cell_type": "code",
   "execution_count": 5,
   "metadata": {},
   "outputs": [],
   "source": [
    "'''\n",
    "Define platform parameters, these parameter is coming from\n",
    "file platform.json; but we platform.json file is generated\n",
    "after one running with LISA on the board. So for analysis\n",
    "if we have no platform.json file we can define the variable\n",
    "for this.\n",
    "'''\n",
    "\n",
    "platform = {\n",
    "    'kernel': {\n",
    "        'major': 4,\n",
    "        'sha1': '78e8b90',\n",
    "        'version': '57 SMP PREEMPT Sat Jul 1 15:42:00 CST 2017',\n",
    "        'version_number': 4,\n",
    "        'parts': [4, 4, 74],\n",
    "        'rc': None,\n",
    "        'release': '4.4.74-g78e8b90',\n",
    "        'minor': 74\n",
    "    },\n",
    "    \n",
    "    'freqs': {\n",
    "        'big': [\n",
    "            903000,\n",
    "            1421000,\n",
    "            1805000,\n",
    "            2112000,\n",
    "            2362000\n",
    "        ],\n",
    "        'little': [\n",
    "            533000,\n",
    "            999000,\n",
    "            1402000,\n",
    "            1709000,\n",
    "            1844000]\n",
    "    },\n",
    "    \n",
    "    'nrg_model': {\n",
    "        'big': {\n",
    "            'cluster': {\n",
    "                'nrg_max': 559\n",
    "            },\n",
    "            'cpu': {\n",
    "                'cap_max': 1024,\n",
    "                'nrg_max': 4269\n",
    "            }\n",
    "        },\n",
    "        'little': {\n",
    "            'cluster': {\n",
    "                'nrg_max': 181\n",
    "            },\n",
    "            'cpu': {\n",
    "                'cap_max': 466,\n",
    "                'nrg_max': 731\n",
    "            }\n",
    "        }\n",
    "    },\n",
    "    \n",
    "    'clusters': {\n",
    "        'big': [4, 5, 6, 7],\n",
    "        'little': [0, 1, 2, 3]\n",
    "    },\n",
    "    'cpus_count': 8,\n",
    "    'topology': [[0, 1, 2, 3], [4, 5, 6, 7]]\n",
    "}"
   ]
  },
  {
   "cell_type": "code",
   "execution_count": 6,
   "metadata": {},
   "outputs": [
    {
     "name": "stderr",
     "output_type": "stream",
     "text": [
      "/usr/local/lib/python2.7/dist-packages/pandas/core/computation/check.py:17: UserWarning: The installed version of numexpr 2.2.2 is not supported in pandas and will be not be used\n",
      "The minimum supported version is 2.4.6\n",
      "\n",
      "  ver=ver, min_ver=_MIN_NUMEXPR_VERSION), UserWarning)\n",
      "2018-01-15 15:01:25,819 WARNING : Trace        : Failed to load tasks names from trace events\n",
      "2018-01-15 15:01:25,825 INFO    : Trace        : Platform clusters verified to be Frequency coherent\n"
     ]
    }
   ],
   "source": [
    "trace = Trace(platform, trace_file, events=my_conf['ftrace']['events'], normalize_time=True, window=(5, 25))"
   ]
  },
  {
   "cell_type": "code",
   "execution_count": 7,
   "metadata": {},
   "outputs": [],
   "source": [
    "# Analyse CPU utilization standard devation\n",
    "def analysis_energy_calculation_duration():\n",
    "\n",
    "    df = trace.data_frame.trace_event('sched_energy_calc_duration')\n",
    "    \n",
    "    if df.empty:\n",
    "        return\n",
    "    \n",
    "    calc_duration_df = pd.DataFrame(\n",
    "        {\n",
    "            'max': [int(df['duration'].max())],\n",
    "            'min': [int(df['duration'].min())],\n",
    "            'mean': [int(df['duration'].mean())],\n",
    "        },\n",
    "    )\n",
    "    \n",
    "    return calc_duration_df"
   ]
  },
  {
   "cell_type": "code",
   "execution_count": 8,
   "metadata": {},
   "outputs": [
    {
     "data": {
      "text/html": [
       "<div>\n",
       "<style scoped>\n",
       "    .dataframe tbody tr th:only-of-type {\n",
       "        vertical-align: middle;\n",
       "    }\n",
       "\n",
       "    .dataframe tbody tr th {\n",
       "        vertical-align: top;\n",
       "    }\n",
       "\n",
       "    .dataframe thead th {\n",
       "        text-align: right;\n",
       "    }\n",
       "</style>\n",
       "<table border=\"1\" class=\"dataframe\">\n",
       "  <thead>\n",
       "    <tr style=\"text-align: right;\">\n",
       "      <th></th>\n",
       "      <th>max</th>\n",
       "      <th>mean</th>\n",
       "      <th>min</th>\n",
       "    </tr>\n",
       "  </thead>\n",
       "  <tbody>\n",
       "    <tr>\n",
       "      <th>0</th>\n",
       "      <td>48438</td>\n",
       "      <td>21093</td>\n",
       "      <td>12500</td>\n",
       "    </tr>\n",
       "  </tbody>\n",
       "</table>\n",
       "</div>"
      ],
      "text/plain": [
       "     max   mean    min\n",
       "0  48438  21093  12500"
      ]
     },
     "execution_count": 8,
     "metadata": {},
     "output_type": "execute_result"
    }
   ],
   "source": [
    "analysis_energy_calculation_duration()"
   ]
  },
  {
   "cell_type": "code",
   "execution_count": null,
   "metadata": {
    "collapsed": true
   },
   "outputs": [],
   "source": []
  }
 ],
 "metadata": {
  "kernelspec": {
   "display_name": "Python 2",
   "language": "python",
   "name": "python2"
  },
  "language_info": {
   "codemirror_mode": {
    "name": "ipython",
    "version": 2
   },
   "file_extension": ".py",
   "mimetype": "text/x-python",
   "name": "python",
   "nbconvert_exporter": "python",
   "pygments_lexer": "ipython2",
   "version": "2.7.6"
  }
 },
 "nbformat": 4,
 "nbformat_minor": 2
}
